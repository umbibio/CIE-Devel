{
 "cells": [
  {
   "cell_type": "code",
   "execution_count": null,
   "metadata": {},
   "outputs": [],
   "source": [
    "import numpy as np\n",
    "import scipy.stats as st\n",
    "import pandas as pd\n",
    "from gbnet import ORNORModel, genData"
   ]
  },
  {
   "cell_type": "code",
   "execution_count": null,
   "metadata": {},
   "outputs": [],
   "source": [
    "np.random.seed(42)"
   ]
  },
  {
   "cell_type": "code",
   "execution_count": null,
   "metadata": {},
   "outputs": [],
   "source": [
    "NX, NActvX, NY = 15, 3, 1500\n",
    "Xgt, ents, rels, DEG = genData(NX, NActvX, NY, AvgNTF=1.5)\n",
    "print(len(rels), 'edges in rels')"
   ]
  },
  {
   "cell_type": "raw",
   "metadata": {},
   "source": [
    "relsgt = rels[rels['val']!=0].index\n",
    "thisones = np.random.choice(relsgt, int(len(relsgt)*0.05))\n",
    "rels.loc[(rels.index.isin(thisones))&(rels['val']==-1), 'type'] = 'decrease'\n",
    "rels.loc[(rels.index.isin(thisones))&(rels['val']==1), 'type'] = 'increase'\n",
    "len(thisones)"
   ]
  },
  {
   "cell_type": "code",
   "execution_count": null,
   "metadata": {},
   "outputs": [],
   "source": [
    "model = ORNORModel(ents, rels, DEG, nchains=2)\n",
    "\n",
    "# Initial burnin\n",
    "model.sample(N=500, njobs=1)\n",
    "\n",
    "model.burn_stats()\n",
    "while not model.converged():\n",
    "    model.sample(N=500, thin=1, njobs=1)"
   ]
  },
  {
   "cell_type": "code",
   "execution_count": null,
   "metadata": {},
   "outputs": [],
   "source": [
    "model.update_result(Xgt)\n",
    "model.export_results('test')\n",
    "Res = model.result"
   ]
  },
  {
   "cell_type": "code",
   "execution_count": null,
   "metadata": {},
   "outputs": [],
   "source": [
    "x = Res['X']\n",
    "x.sort_values(by='XT', ascending=False)"
   ]
  }
 ],
 "metadata": {
  "kernelspec": {
   "display_name": "Python 3",
   "language": "python",
   "name": "python3"
  },
  "language_info": {
   "codemirror_mode": {
    "name": "ipython",
    "version": 3
   },
   "file_extension": ".py",
   "mimetype": "text/x-python",
   "name": "python",
   "nbconvert_exporter": "python",
   "pygments_lexer": "ipython3",
   "version": "3.6.7"
  }
 },
 "nbformat": 4,
 "nbformat_minor": 2
}
