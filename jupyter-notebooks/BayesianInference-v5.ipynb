{
 "cells": [
  {
   "cell_type": "code",
   "execution_count": null,
   "metadata": {},
   "outputs": [],
   "source": [
    "import numpy as np\n",
    "import scipy.stats as st\n",
    "import matplotlib.pyplot as plt\n",
    "from infer.aux import genData, processTrace, updateRes, Reporter, mutate_data\n",
    "from infer.model import Model"
   ]
  },
  {
   "cell_type": "code",
   "execution_count": null,
   "metadata": {},
   "outputs": [],
   "source": [
    "Xgt, Y, rels = genData(3, 2, 50)"
   ]
  },
  {
   "cell_type": "code",
   "execution_count": null,
   "metadata": {},
   "outputs": [],
   "source": [
    "# this is for adding noise to input data\n",
    "#Y = mutate_data(Y, 1)"
   ]
  },
  {
   "cell_type": "code",
   "execution_count": null,
   "metadata": {},
   "outputs": [],
   "source": [
    "njobs = 2\n",
    "chains = 2\n",
    "\n",
    "model = Model()\n",
    "model.scale = [0.5]\n",
    "model.build(Y, rels)\n",
    "\n",
    "alph, beta = 0.4, 0.7\n",
    "x_alph = np.ones(shape=model.nx)*alph\n",
    "x_beta = np.ones(shape=model.nx)*beta\n",
    "\n",
    "r_alph = np.ones(shape=model.ns)*alph\n",
    "r_beta = np.ones(shape=model.ns)*beta\n",
    "\n",
    "alph, beta = 0.5, 0.5\n",
    "s_alph = np.ones(shape=model.ns)*alph\n",
    "s_beta = np.ones(shape=model.ns)*beta\n",
    "\n",
    "Xprior = st.beta(x_alph, x_beta)\n",
    "Rprior = st.beta(r_alph, r_beta)\n",
    "Sprior = st.beta(s_alph, s_beta)\n",
    "\n",
    "model.set_priors(Xprior, Rprior, Sprior)\n",
    "model.init_chains(chains=chains)"
   ]
  },
  {
   "cell_type": "code",
   "execution_count": null,
   "metadata": {},
   "outputs": [],
   "source": [
    "reporter = Reporter()\n",
    "reporter.report(\"Start\")\n",
    "model.sample(N=2000, burn=0.1, thin=5, njobs=njobs)\n",
    "reporter.report(\"Completed current sample\")\n",
    "while not model.converged():\n",
    "    model.sample(N=2000, burn=0.1, thin=5, njobs=njobs)\n",
    "    reporter.report(\"Completed current sample\")"
   ]
  },
  {
   "cell_type": "code",
   "execution_count": null,
   "metadata": {},
   "outputs": [],
   "source": [
    "model.trace[0]['X'].shape"
   ]
  },
  {
   "cell_type": "code",
   "execution_count": null,
   "metadata": {},
   "outputs": [],
   "source": [
    "y = model.get_trace('X', chain=0)\n",
    "for i in range(y.shape[1]):\n",
    "    plt.plot(range(y.shape[0]), y[:, i], alpha=0.4)\n",
    "plt.ylim(0,1)\n",
    "plt.show()"
   ]
  },
  {
   "cell_type": "code",
   "execution_count": null,
   "metadata": {},
   "outputs": [],
   "source": [
    "Xres, Rres, Sres = processTrace(model, Xgt, rels)\n",
    "Xres, Rres, Sres = updateRes(Xres, Rres, Sres, final=True)"
   ]
  },
  {
   "cell_type": "code",
   "execution_count": null,
   "metadata": {},
   "outputs": [],
   "source": [
    "Xres"
   ]
  },
  {
   "cell_type": "code",
   "execution_count": null,
   "metadata": {},
   "outputs": [],
   "source": [
    "Rres"
   ]
  },
  {
   "cell_type": "code",
   "execution_count": null,
   "metadata": {},
   "outputs": [],
   "source": [
    "Sres"
   ]
  }
 ],
 "metadata": {
  "kernelspec": {
   "display_name": "Python 3",
   "language": "python",
   "name": "python3"
  },
  "language_info": {
   "codemirror_mode": {
    "name": "ipython",
    "version": 3
   },
   "file_extension": ".py",
   "mimetype": "text/x-python",
   "name": "python",
   "nbconvert_exporter": "python",
   "pygments_lexer": "ipython3",
   "version": "3.6.5"
  }
 },
 "nbformat": 4,
 "nbformat_minor": 2
}
