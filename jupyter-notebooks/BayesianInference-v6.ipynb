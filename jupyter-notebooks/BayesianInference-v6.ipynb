{
 "cells": [
  {
   "cell_type": "code",
   "execution_count": null,
   "metadata": {},
   "outputs": [],
   "source": [
    "import numpy as np\n",
    "import scipy.stats as st\n",
    "import matplotlib.pyplot as plt\n",
    "from infer.aux import genData, processTrace, updateRes, Reporter, mutate_data, mutate_data2\n",
    "from infer.model import Model"
   ]
  },
  {
   "cell_type": "code",
   "execution_count": null,
   "metadata": {},
   "outputs": [],
   "source": [
    "Xgt, Y, rels = genData(6, 2, 200)"
   ]
  },
  {
   "cell_type": "code",
   "execution_count": null,
   "metadata": {},
   "outputs": [],
   "source": [
    "# this is for adding noise to input data\n",
    "#Y = mutate_data2(Y, 0.05)"
   ]
  },
  {
   "cell_type": "code",
   "execution_count": null,
   "metadata": {},
   "outputs": [],
   "source": [
    "alph, beta = 0.5, 1.\n",
    "x_alph = np.ones(shape=len(Xgt))*alph\n",
    "x_beta = np.ones(shape=len(Xgt))*beta\n",
    "\n",
    "r_alph = np.ones(shape=len(rels))*alph\n",
    "r_beta = np.ones(shape=len(rels))*beta\n",
    "\n",
    "alph = beta = 0.7\n",
    "s_alph = np.ones(shape=len(rels))*alph\n",
    "s_beta = np.ones(shape=len(rels))*beta\n",
    "\n",
    "Xprior = st.beta(x_alph, x_beta)\n",
    "Rprior = st.beta(r_alph, r_beta)\n",
    "Sprior = st.beta(s_alph, s_beta)"
   ]
  },
  {
   "cell_type": "code",
   "execution_count": null,
   "metadata": {},
   "outputs": [],
   "source": [
    "njobs = 2\n",
    "chains = 2\n",
    "\n",
    "model = Model()\n",
    "model.scale = [0.5]\n",
    "model.build(Y, rels, [Xprior, Rprior, Sprior])\n",
    "\n",
    "model.set_subsample_size(0.1)\n",
    "\n",
    "model.init_chains(chains=chains)"
   ]
  },
  {
   "cell_type": "code",
   "execution_count": null,
   "metadata": {},
   "outputs": [],
   "source": [
    "reporter = Reporter()\n",
    "reporter.report(\"Start\")\n",
    "while not model.converged():\n",
    "    model.sample(N=2000, burn=0., thin=1, njobs=njobs)\n",
    "    reporter.report(\"Completed current sample\")"
   ]
  },
  {
   "cell_type": "code",
   "execution_count": null,
   "metadata": {},
   "outputs": [],
   "source": [
    "grX, grR, grS = model.gelman_rubin.values()\n",
    "grX.max(), grR.max(), grS.max()"
   ]
  },
  {
   "cell_type": "code",
   "execution_count": null,
   "metadata": {},
   "outputs": [],
   "source": [
    "model.trace[0]['X'].shape"
   ]
  },
  {
   "cell_type": "code",
   "execution_count": null,
   "metadata": {},
   "outputs": [],
   "source": [
    "y = model.get_trace('X', chain=0)\n",
    "for i in range(y.shape[1]):\n",
    "    plt.plot(range(y.shape[0]), y[:, i], alpha=0.4)\n",
    "plt.ylim(0,1)\n",
    "plt.show()"
   ]
  },
  {
   "cell_type": "code",
   "execution_count": null,
   "metadata": {},
   "outputs": [],
   "source": [
    "y = model.get_trace('R', chain=0)\n",
    "for i in range(y.shape[1]):\n",
    "    plt.plot(range(y.shape[0]), y[:, i], alpha=0.4)\n",
    "plt.ylim(0,1)\n",
    "plt.show()"
   ]
  },
  {
   "cell_type": "code",
   "execution_count": null,
   "metadata": {},
   "outputs": [],
   "source": [
    "Xres, Rres, Sres = processTrace(model, Xgt, rels)\n",
    "Xres, Rres, Sres = updateRes(Xres, Rres, Sres, final=True)"
   ]
  },
  {
   "cell_type": "code",
   "execution_count": null,
   "metadata": {},
   "outputs": [],
   "source": [
    "Xres.gelman_rubin.max(), Rres.gelman_rubin.max(), Sres.gelman_rubin.max()"
   ]
  },
  {
   "cell_type": "code",
   "execution_count": null,
   "metadata": {},
   "outputs": [],
   "source": [
    "h = plt.hist(Xres.gelman_rubin, 48, (0.9, 1.5))\n",
    "plt.vlines(1, 0, h[0].max(), colors='r')"
   ]
  },
  {
   "cell_type": "code",
   "execution_count": null,
   "metadata": {},
   "outputs": [],
   "source": [
    "h = plt.hist(Rres.gelman_rubin, 48, (0.9, 1.5))\n",
    "plt.vlines(1, 0, h[0].max(), colors='r')"
   ]
  },
  {
   "cell_type": "code",
   "execution_count": null,
   "metadata": {},
   "outputs": [],
   "source": [
    "h = plt.hist(Sres.gelman_rubin, 48, (0.9, 1.5))\n",
    "plt.vlines(1, 0, h[0].max(), colors='r')"
   ]
  },
  {
   "cell_type": "code",
   "execution_count": null,
   "metadata": {},
   "outputs": [],
   "source": [
    "Xres[~Xres.gelman_rubin.between(0.95,1.05)]"
   ]
  },
  {
   "cell_type": "code",
   "execution_count": null,
   "metadata": {},
   "outputs": [],
   "source": [
    "Rres[~Rres.gelman_rubin.between(0.95,1.05)]"
   ]
  },
  {
   "cell_type": "code",
   "execution_count": null,
   "metadata": {},
   "outputs": [],
   "source": [
    "Sres[~Sres.gelman_rubin.between(0.95,1.05)]"
   ]
  },
  {
   "cell_type": "code",
   "execution_count": null,
   "metadata": {},
   "outputs": [],
   "source": [
    "Xres[~Xres.correctness]"
   ]
  },
  {
   "cell_type": "code",
   "execution_count": null,
   "metadata": {},
   "outputs": [],
   "source": [
    "Rres[~Rres.correctness]"
   ]
  },
  {
   "cell_type": "code",
   "execution_count": null,
   "metadata": {},
   "outputs": [],
   "source": [
    "Sres[~Sres.correctness]"
   ]
  },
  {
   "cell_type": "code",
   "execution_count": null,
   "metadata": {},
   "outputs": [],
   "source": [
    "plt.ylim(0,1)\n",
    "plt.plot(range(len(Rres)), Rres['mean'])"
   ]
  },
  {
   "cell_type": "code",
   "execution_count": null,
   "metadata": {},
   "outputs": [],
   "source": [
    "Xres"
   ]
  },
  {
   "cell_type": "code",
   "execution_count": null,
   "metadata": {},
   "outputs": [],
   "source": [
    "Rres"
   ]
  },
  {
   "cell_type": "code",
   "execution_count": null,
   "metadata": {},
   "outputs": [],
   "source": [
    "Sres"
   ]
  },
  {
   "cell_type": "code",
   "execution_count": null,
   "metadata": {},
   "outputs": [],
   "source": []
  }
 ],
 "metadata": {
  "kernelspec": {
   "display_name": "Python 3",
   "language": "python",
   "name": "python3"
  },
  "language_info": {
   "codemirror_mode": {
    "name": "ipython",
    "version": 3
   },
   "file_extension": ".py",
   "mimetype": "text/x-python",
   "name": "python",
   "nbconvert_exporter": "python",
   "pygments_lexer": "ipython3",
   "version": "3.6.6"
  }
 },
 "nbformat": 4,
 "nbformat_minor": 2
}
