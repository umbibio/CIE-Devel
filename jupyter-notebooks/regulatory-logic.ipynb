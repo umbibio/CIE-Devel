{
 "cells": [
  {
   "cell_type": "code",
   "execution_count": 1,
   "metadata": {},
   "outputs": [],
   "source": [
    "import pandas as pd\n",
    "import numpy as np\n",
    "from scipy.special import beta, btdtr"
   ]
  },
  {
   "cell_type": "code",
   "execution_count": 2,
   "metadata": {},
   "outputs": [],
   "source": [
    "# Generate 100 Sample data\n",
    "N = 100\n",
    "\n",
    "# For each sample, 4 input values\n",
    "X1 = np.random.binomial(1, 0.50, N)\n",
    "X2 = np.random.binomial(1, 0.50, N)\n",
    "X3 = np.random.binomial(1, 0.50, N)\n",
    "X4 = np.random.binomial(1, 0.50, N)\n",
    "\n",
    "# Output Y will depend only on X1 and X2\n",
    "# parameters teta1 and teta2 are set to 0.75\n",
    "P = 1 - (1 - 0.75*X1) * (1 - 0.75*X2)\n",
    "Y = np.random.binomial(1, P)"
   ]
  },
  {
   "cell_type": "code",
   "execution_count": 3,
   "metadata": {},
   "outputs": [],
   "source": [
    "data = pd.DataFrame({'X1': X1, 'X2': X2, 'X3': X3, 'X4': X4, 'Y': Y})"
   ]
  },
  {
   "cell_type": "code",
   "execution_count": 4,
   "metadata": {},
   "outputs": [],
   "source": [
    "# find every posible combination of input sample values\n",
    "comb = np.array(np.meshgrid([0,1],[0,1],[0,1],[0,1])).T.reshape(-1,4)\n",
    "comb = [tuple(c) for c in comb]"
   ]
  },
  {
   "cell_type": "code",
   "execution_count": 5,
   "metadata": {},
   "outputs": [],
   "source": [
    "# Use the samples to compute the probability of Y being 1, \n",
    "# for each of the posible input combinations\n",
    "PY = {}\n",
    "# Compute the frequency of each input combination\n",
    "PX = {}\n",
    "for c in comb:\n",
    "    x1, x2, x3, x4 = c\n",
    "    # Get samples that match current input combinacion\n",
    "    filt = (data['X1'] == x1) & (data['X2'] == x2) & (data['X3'] == x3) & (data['X4'] == x4)\n",
    "    df = data.loc[filt]\n",
    "    # Compute PY and PX\n",
    "    PY[c] = df['Y'].mean()\n",
    "    PX[c] = len(df)/len(data)\n",
    "\n",
    "PY = pd.Series(PY, name='PY')\n",
    "PX = pd.Series(PX, name='PX')\n",
    "pd.set_option('display.multi_sparse', False)"
   ]
  },
  {
   "cell_type": "code",
   "execution_count": 6,
   "metadata": {},
   "outputs": [
    {
     "data": {
      "text/plain": [
       "0  0  0  0    0.000000\n",
       "0  0  0  1    0.000000\n",
       "0  0  1  0    0.000000\n",
       "0  0  1  1    0.000000\n",
       "0  1  0  0    0.875000\n",
       "0  1  0  1    1.000000\n",
       "0  1  1  0    0.833333\n",
       "0  1  1  1    0.833333\n",
       "1  0  0  0    0.750000\n",
       "1  0  0  1    1.000000\n",
       "1  0  1  0    0.666667\n",
       "1  0  1  1    0.750000\n",
       "1  1  0  0    1.000000\n",
       "1  1  0  1    1.000000\n",
       "1  1  1  0    1.000000\n",
       "1  1  1  1    1.000000\n",
       "Name: PY, dtype: float64"
      ]
     },
     "execution_count": 6,
     "metadata": {},
     "output_type": "execute_result"
    }
   ],
   "source": [
    "PY"
   ]
  },
  {
   "cell_type": "code",
   "execution_count": 7,
   "metadata": {},
   "outputs": [
    {
     "data": {
      "text/plain": [
       "0  0  0  0    0.09\n",
       "0  0  0  1    0.07\n",
       "0  0  1  0    0.02\n",
       "0  0  1  1    0.11\n",
       "0  1  0  0    0.08\n",
       "0  1  0  1    0.03\n",
       "0  1  1  0    0.06\n",
       "0  1  1  1    0.06\n",
       "1  0  0  0    0.04\n",
       "1  0  0  1    0.05\n",
       "1  0  1  0    0.06\n",
       "1  0  1  1    0.04\n",
       "1  1  0  0    0.08\n",
       "1  1  0  1    0.09\n",
       "1  1  1  0    0.05\n",
       "1  1  1  1    0.07\n",
       "Name: PX, dtype: float64"
      ]
     },
     "execution_count": 7,
     "metadata": {},
     "output_type": "execute_result"
    }
   ],
   "source": [
    "PX"
   ]
  },
  {
   "cell_type": "code",
   "execution_count": 8,
   "metadata": {},
   "outputs": [],
   "source": [
    "def rY(g, t):\n",
    "    \"\"\"Draws a random number from P(Y=1|g, t)\"\"\"\n",
    "    if type(g) is not np.ndarray:\n",
    "        g = np.array(g)\n",
    "    if type(t) is not np.ndarray:\n",
    "        t = np.array(t)\n",
    "\n",
    "    Xi = np.random.choice(PX.index, p=PX)\n",
    "    Xi = np.array(Xi)\n",
    "    p = 1 - ((1 - t)**(g*Xi)).prod()\n",
    "    return np.random.binomial(1, p)"
   ]
  },
  {
   "cell_type": "code",
   "execution_count": 9,
   "metadata": {},
   "outputs": [],
   "source": [
    "def rT(i):\n",
    "    \"\"\"Draws a random number for Theta_i\"\"\"\n",
    "    if g[i] == 1:\n",
    "        # non-informative uniform distribution\n",
    "        a = b = 1\n",
    "    elif g[i] == 0:\n",
    "        # \n",
    "        x = sT[i] / it\n",
    "        y = sT2[i]/it - (sT[i]/it)**2\n",
    "        a = x**2 * (1 - x) / y - x\n",
    "        b = x * (1 - x)**2 / y - 1 + x\n",
    "\n",
    "    return np.random.beta(a, b)"
   ]
  },
  {
   "cell_type": "code",
   "execution_count": 10,
   "metadata": {},
   "outputs": [],
   "source": [
    "def pD():\n",
    "    \"\"\"Computes P(D| g, t)\"\"\"\n",
    "\n",
    "    p = 0.\n",
    "    for Xi, PXi in PX.iteritems():\n",
    "        Xi = np.array(Xi)\n",
    "        p += (1 - ((1 - t)**(g*Xi)).prod()) * PXi\n",
    "    return p"
   ]
  },
  {
   "cell_type": "code",
   "execution_count": 12,
   "metadata": {},
   "outputs": [],
   "source": [
    "def pT(i=None):\n",
    "\n",
    "    if i is None:\n",
    "        p = 1.\n",
    "        for i in range(len(g)):\n",
    "            p *= pT(i)\n",
    "        return p\n",
    "    else:\n",
    "\n",
    "        if g[i] == 1:\n",
    "            # non-informative uniform distribution\n",
    "            a = b = 1\n",
    "        elif g[i] == 0:\n",
    "            x = sT[i] / it\n",
    "            y = sT2[i]/it - (sT[i]/it)**2\n",
    "            a = x**2 * (1 - x) / y - x\n",
    "            b = x * (1 - x)**2 / y - 1 + x\n",
    "            \n",
    "        return t[i]**(a-1) * (1 - t[i])**(b-1) / beta(a, b)"
   ]
  },
  {
   "cell_type": "code",
   "execution_count": 13,
   "metadata": {},
   "outputs": [],
   "source": [
    "# pilot run size\n",
    "it = 1000\n",
    "hT = np.random.beta(1, 1, (it, 4))\n",
    "# Sum of theta values\n",
    "sT = hT.sum(axis=0)\n",
    "# Sum of squares for variance\n",
    "sT2 = (hT**2).sum(axis=0)"
   ]
  },
  {
   "cell_type": "code",
   "execution_count": 14,
   "metadata": {},
   "outputs": [],
   "source": [
    "# the variable selection vector (gamma)\n",
    "g = np.array([1, 1, 1, 1])\n",
    "# the parameter vector (theta)\n",
    "t = hT[-1].copy()"
   ]
  },
  {
   "cell_type": "code",
   "execution_count": 17,
   "metadata": {},
   "outputs": [],
   "source": [
    "for _ in range(10000):\n",
    "    for j in range(4):\n",
    "        t[j] = rT(j)\n",
    "        g[j] = 1\n",
    "        pd1, pt1, pg1 = pD(), pT(), 0.5\n",
    "        g[j] = 0\n",
    "        pd0, pt0, pg0 = pD(), pT(), 0.5\n",
    "        if pd0 > 0:\n",
    "            oj = pd1 * pt1 * pg1 / (pd0 * pt0 * pg0)\n",
    "            p = oj / (1 + oj)\n",
    "        else:\n",
    "            p = 1\n",
    "        g[j] = np.random.binomial(1, p)\n",
    "    sT += t\n",
    "    sT2 += t**2\n",
    "    it += 1\n",
    "    "
   ]
  },
  {
   "cell_type": "code",
   "execution_count": 20,
   "metadata": {},
   "outputs": [
    {
     "data": {
      "text/plain": [
       "11000"
      ]
     },
     "execution_count": 20,
     "metadata": {},
     "output_type": "execute_result"
    }
   ],
   "source": [
    "it"
   ]
  },
  {
   "cell_type": "code",
   "execution_count": 21,
   "metadata": {},
   "outputs": [
    {
     "data": {
      "text/plain": [
       "array([ 0.50275859,  0.50427326,  0.50030454,  0.49790137])"
      ]
     },
     "execution_count": 21,
     "metadata": {},
     "output_type": "execute_result"
    }
   ],
   "source": [
    "sT/it"
   ]
  }
 ],
 "metadata": {
  "kernelspec": {
   "display_name": "Python 3",
   "language": "python",
   "name": "python3"
  },
  "language_info": {
   "codemirror_mode": {
    "name": "ipython",
    "version": 3
   },
   "file_extension": ".py",
   "mimetype": "text/x-python",
   "name": "python",
   "nbconvert_exporter": "python",
   "pygments_lexer": "ipython3",
   "version": "3.5.2"
  }
 },
 "nbformat": 4,
 "nbformat_minor": 2
}
